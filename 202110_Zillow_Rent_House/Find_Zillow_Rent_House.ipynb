{
 "cells": [
  {
   "cell_type": "code",
   "execution_count": 13,
   "id": "e405ef9e",
   "metadata": {},
   "outputs": [],
   "source": [
    "import numpy as np\n",
    "import pandas as pd\n",
    "import pickle\n",
    "\n",
    "import bs4 as bs\n",
    "import requests \n",
    "import json\n",
    "from bs4 import BeautifulSoup\n",
    "import requests\n",
    "import re\n",
    "from collections import Counter\n",
    "\n",
    "import MySQLdb, pickle\n",
    "from sqlalchemy import create_engine"
   ]
  },
  {
   "cell_type": "code",
   "execution_count": 32,
   "id": "de1c35bd",
   "metadata": {},
   "outputs": [
    {
     "name": "stdout",
     "output_type": "stream",
     "text": [
      "45 Corbel Way, Newnan, GA 30265\n"
     ]
    }
   ],
   "source": [
    "headers = {'User-Agent': 'Mozilla/5.0'}\n",
    "url = 'https://www.realtor.com/realestateandhomes-search/Summergrove_Newnan_GA/price-150000-250000-2'\n",
    "r = requests.get(url, headers=headers) \n",
    "soup = BeautifulSoup(r.text, 'html.parser')\n",
    "address = soup.select_one('#srp-body > section > ul:nth-child(2) > li:nth-child(1) > div > div.jsx-4015109390.card-box.type-srp-result > div.jsx-4015109390.detail-wrap.fixed-wrapper-ldp-redesign.has-cta > div.jsx-4015109390.summary-wrap > div > div.jsx-4015109390.address.ellipsis.srp-page-address.srp-address-redesign')\n",
    "print(address.get_text())\n"
   ]
  },
  {
   "cell_type": "code",
   "execution_count": null,
   "id": "620676b9",
   "metadata": {},
   "outputs": [],
   "source": []
  }
 ],
 "metadata": {
  "kernelspec": {
   "display_name": "Python 3 (ipykernel)",
   "language": "python",
   "name": "python3"
  },
  "language_info": {
   "codemirror_mode": {
    "name": "ipython",
    "version": 3
   },
   "file_extension": ".py",
   "mimetype": "text/x-python",
   "name": "python",
   "nbconvert_exporter": "python",
   "pygments_lexer": "ipython3",
   "version": "3.9.6"
  }
 },
 "nbformat": 4,
 "nbformat_minor": 5
}
